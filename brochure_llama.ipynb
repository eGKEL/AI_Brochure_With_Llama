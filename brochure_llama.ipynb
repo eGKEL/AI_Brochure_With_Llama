{
 "cells": [
  {
   "cell_type": "code",
   "execution_count": 14,
   "id": "54593d75-8ef2-42ad-888b-6908a9f7bf87",
   "metadata": {
    "id": "54593d75-8ef2-42ad-888b-6908a9f7bf87"
   },
   "outputs": [],
   "source": [
    "import os\n",
    "import requests\n",
    "from urllib.parse import urljoin\n",
    "from bs4 import BeautifulSoup\n",
    "from IPython.display import Markdown, display\n",
    "import ollama\n",
    "import gradio as gr"
   ]
  },
  {
   "cell_type": "code",
   "execution_count": 15,
   "id": "0a14c40f-da46-4d33-a01d-01504bc6672e",
   "metadata": {
    "id": "0a14c40f-da46-4d33-a01d-01504bc6672e"
   },
   "outputs": [],
   "source": [
    "class Website:\n",
    "    url: str\n",
    "    title: str\n",
    "    text: str\n",
    "    logo: str\n",
    "\n",
    "    def __init__(self, url):\n",
    "        self.url = url\n",
    "        response = requests.get(url)\n",
    "        response.raise_for_status()\n",
    "        soup = BeautifulSoup(response.content, 'html.parser')\n",
    "       \n",
    "        self.title = soup.title.string if soup.title else \"No title found\"\n",
    "       \n",
    "        if soup.body:\n",
    "            for irrelevant in soup.body([\"script\", \"style\", \"img\", \"input\"]):\n",
    "                irrelevant.decompose()\n",
    "            self.text = soup.body.get_text(separator=\"\\n\", strip=True)\n",
    "        else:\n",
    "            self.text = \"\"\n",
    "       \n",
    "        icon_link = soup.find(\"link\", rel=lambda x: x and \"icon\" in x.lower())\n",
    "        if icon_link and icon_link.get(\"href\"):\n",
    "            href = icon_link[\"href\"]\n",
    "            self.logo = href if href.startswith(\"http\") else urljoin(url, href)\n",
    "        else:\n",
    "            self.logo = None  # Will return None if no logo found"
   ]
  },
  {
   "cell_type": "code",
   "execution_count": 10,
   "id": "1xiMGF3jNwwh",
   "metadata": {
    "id": "1xiMGF3jNwwh"
   },
   "outputs": [],
   "source": [
    "def message_llama(prompt):\n",
    "    messages = [\n",
    "        {\"role\": \"system\",\"content\": system_message},\n",
    "        {\"role\": \"user\", \"content\": prompt}\n",
    "    ]\n",
    "    resp = ollama.chat(model=MODEL, messages=messages)\n",
    "    return resp[\"message\"][\"content\"]"
   ]
  },
  {
   "cell_type": "code",
   "execution_count": 16,
   "id": "38a086c2-8187-4e6f-be5f-42b30311b643",
   "metadata": {
    "id": "38a086c2-8187-4e6f-be5f-42b30311b643"
   },
   "outputs": [],
   "source": [
    "system_message = \"You are an assistant that analyzes the contents of a website and provides a short summary, ignoring text that might be navigation related. Respond in markdown.\"\n",
    "MODEL = \"llama3.2\""
   ]
  },
  {
   "cell_type": "code",
   "execution_count": 17,
   "id": "3239d165-8004-4acb-ac67-c1a72b93a411",
   "metadata": {
    "id": "3239d165-8004-4acb-ac67-c1a72b93a411"
   },
   "outputs": [],
   "source": [
    "def user_prompt_for(website):\n",
    "    prompt = f\"You are looking at a website titled '{website.title}'.\\n\"\n",
    "    prompt += \"The contents of this website is as follows; please provide a short summary of this website in markdown. If it includes news or announcements, summarize these too.\\n\\n\"\n",
    "    prompt += website.text\n",
    "    return prompt"
   ]
  },
  {
   "cell_type": "code",
   "execution_count": 12,
   "id": "987782fb-b71f-4258-9f2c-df10cbb01197",
   "metadata": {
    "id": "987782fb-b71f-4258-9f2c-df10cbb01197"
   },
   "outputs": [],
   "source": [
    "def messages_for(website):\n",
    "    return [\n",
    "        {\"role\": \"system\", \"content\": system_message},\n",
    "        {\"role\": \"user\", \"content\": user_prompt_for(website)}\n",
    "    ]"
   ]
  },
  {
   "cell_type": "code",
   "execution_count": 18,
   "id": "4a355c4f-3d37-41b1-819f-3d7c2cb7ab8b",
   "metadata": {
    "id": "4a355c4f-3d37-41b1-819f-3d7c2cb7ab8b"
   },
   "outputs": [],
   "source": [
    "def summarize(url):\n",
    "    website = Website(url)\n",
    "    messages = messages_for(website)\n",
    "    response = ollama.chat(model=MODEL, messages=messages)\n",
    "    return website.logo, response['message']['content']  # logo can be None"
   ]
  },
  {
   "cell_type": "code",
   "execution_count": 19,
   "id": "384ed8f5-5683-4c9b-bb1a-bbd76ca9dcc2",
   "metadata": {
    "id": "384ed8f5-5683-4c9b-bb1a-bbd76ca9dcc2"
   },
   "outputs": [],
   "source": [
    "def display_summary(url):\n",
    "    logo, summary = summarize(url)\n",
    "    return logo, summary"
   ]
  },
  {
   "cell_type": "code",
   "execution_count": 21,
   "id": "e251ddfa-4d59-4c2f-bdcc-7677fc0a6407",
   "metadata": {
    "id": "e251ddfa-4d59-4c2f-bdcc-7677fc0a6407",
    "outputId": "c2b386f5-b103-48f7-f105-50b53efe9567"
   },
   "outputs": [
    {
     "name": "stdout",
     "output_type": "stream",
     "text": [
      "* Running on local URL:  http://127.0.0.1:7860\n",
      "* Running on public URL: https://879e9b9276ea2e098d.gradio.live\n",
      "\n",
      "This share link expires in 1 week. For free permanent hosting and GPU upgrades, run `gradio deploy` from the terminal in the working directory to deploy to Hugging Face Spaces (https://huggingface.co/spaces)\n"
     ]
    },
    {
     "data": {
      "text/html": [
       "<div><iframe src=\"https://879e9b9276ea2e098d.gradio.live\" width=\"100%\" height=\"500\" allow=\"autoplay; camera; microphone; clipboard-read; clipboard-write;\" frameborder=\"0\" allowfullscreen></iframe></div>"
      ],
      "text/plain": [
       "<IPython.core.display.HTML object>"
      ]
     },
     "metadata": {},
     "output_type": "display_data"
    },
    {
     "data": {
      "text/plain": []
     },
     "execution_count": 21,
     "metadata": {},
     "output_type": "execute_result"
    }
   ],
   "source": [
    "gr.Interface(\n",
    "    fn=display_summary,\n",
    "    inputs=gr.Textbox(label=\"Website URL\"),\n",
    "    outputs=[gr.Image(label=\"Website Logo\"), gr.Markdown(label=\"Summary\")],\n",
    "    title=\"Website Analyzer\",\n",
    "    description=\"Enter a website URL to get a summary and its logo.\"\n",
    ").launch(share=True, inbrowser=True)"
   ]
  }
 ],
 "metadata": {
  "colab": {
   "provenance": []
  },
  "kernelspec": {
   "display_name": "Python 3 (ipykernel)",
   "language": "python",
   "name": "python3"
  },
  "language_info": {
   "codemirror_mode": {
    "name": "ipython",
    "version": 3
   },
   "file_extension": ".py",
   "mimetype": "text/x-python",
   "name": "python",
   "nbconvert_exporter": "python",
   "pygments_lexer": "ipython3",
   "version": "3.11.13"
  }
 },
 "nbformat": 4,
 "nbformat_minor": 5
}
